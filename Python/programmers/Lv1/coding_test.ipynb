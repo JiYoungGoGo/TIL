{
 "cells": [
  {
   "attachments": {},
   "cell_type": "markdown",
   "metadata": {},
   "source": [
    "### [다음에 올 숫자](https://school.programmers.co.kr/learn/courses/30/lessons/120924)\n",
    "- 등차수열 혹은 등비수열 common이 매개변수로 주어질 때, 마지막 원소 다음으로 올 숫자를 return 하도록 solution 함수를 완성해보세요."
   ]
  },
  {
   "cell_type": "code",
   "execution_count": 1,
   "metadata": {},
   "outputs": [
    {
     "data": {
      "text/plain": [
       "16.0"
      ]
     },
     "execution_count": 1,
     "metadata": {},
     "output_type": "execute_result"
    }
   ],
   "source": [
    "# 내 풀이\n",
    "def solution(common):\n",
    "    answer = 0\n",
    "    \n",
    "    if common[1] - common[0] == common[-1] - common[-2]:\n",
    "        answer = common[-1] + common[-1] - common[-2]\n",
    "        \n",
    "    elif common[1]/common[0] == common[2]/common[1]:\n",
    "            multi = common[1]/common[0]\n",
    "            answer = common[-1] * multi\n",
    "    \n",
    "    return answer\n",
    "\n",
    "solution([2,4,8])\n"
   ]
  },
  {
   "cell_type": "code",
   "execution_count": 2,
   "metadata": {},
   "outputs": [
    {
     "data": {
      "text/plain": [
       "16"
      ]
     },
     "execution_count": 2,
     "metadata": {},
     "output_type": "execute_result"
    }
   ],
   "source": [
    "# 다른 사람 풀이\n",
    "\n",
    "def solution(common):\n",
    "\n",
    "    # 파이썬에서는 이런 식으로 언패킹해서 한번에 변수 선언이 가능하다.\n",
    "    a,b,c = common[:3]\n",
    "    if (b-a) == (c-b):\n",
    "        return common[-1]+(b-a)\n",
    "    else:\n",
    "        return common[-1] * (b//a)\n",
    "    \n",
    "solution([2,4,8])\n"
   ]
  },
  {
   "attachments": {},
   "cell_type": "markdown",
   "metadata": {},
   "source": [
    "[공원산책](https://school.programmers.co.kr/learn/courses/30/lessons/172928)\n",
    "- 아직 정답을 못맞췄다 ㅠ"
   ]
  },
  {
   "cell_type": "code",
   "execution_count": 61,
   "metadata": {},
   "outputs": [
    {
     "name": "stdout",
     "output_type": "stream",
     "text": [
      "[2, 1]\n",
      "[0, 1]\n",
      "[0, 0]\n"
     ]
    }
   ],
   "source": [
    "def solution(park, routes):\n",
    "    width, height = len(park[0]), len(park)\n",
    "    start = [0,0]\n",
    "    \n",
    "    for index, point in enumerate(park):\n",
    "        if point.count(\"S\") > 0:\n",
    "            start = [index, point.index(\"S\")]\n",
    "        else:\n",
    "            pass\n",
    "    now = start\n",
    "    \n",
    "    for point in routes:\n",
    "        direction, move = point.split()\n",
    "        move = int(move)\n",
    "        if direction == \"E\":\n",
    "            if now[1] + move >= width:\n",
    "                continue\n",
    "            elif point[now[1]: now[1] + move + 1] in \"X\":\n",
    "                continue\n",
    "            else:\n",
    "                now[1] = now[1] + move\n",
    "        elif direction == \"W\":\n",
    "            if now[1] - move < 0:\n",
    "                continue\n",
    "            elif point[now[1] - move: now[1]] in \"X\":\n",
    "                continue\n",
    "            else:\n",
    "                now[1] = now[1] - move\n",
    "        elif direction == \"N\":\n",
    "            if now[0] - move < 0:\n",
    "                continue\n",
    "            else:\n",
    "                if [x[now[1]] for x in park[now[0]- move:now[0] + 1]].count(\"X\") > 0:\n",
    "                    continue\n",
    "                else:\n",
    "                    now[0] = now[0] - move\n",
    "        else: #S\n",
    "            if now[0] + move >= height:\n",
    "                continue\n",
    "            else:\n",
    "                if [x[now[1]] for x in park[now[0]:now[0] + move]].count(\"X\") > 0:\n",
    "                    continue\n",
    "                else:\n",
    "                    now[0] = now[0] + move\n",
    "    \n",
    "    return now\n",
    "\n",
    "print(solution([\"SOO\", \"OOO\", \"OOO\"], [\"E 2\", \"S 2\", \"W 1\"]))\n",
    "print(solution([\"SOO\",\"OXX\",\"OOO\"], [\"E 2\",\"S 2\",\"W 1\"]))\n",
    "print(solution([\"OSO\",\"OOO\",\"OXO\",\"OOO\"], [\"E 2\",\"S 3\",\"W 1\"]))"
   ]
  },
  {
   "cell_type": "code",
   "execution_count": null,
   "metadata": {},
   "outputs": [],
   "source": []
  },
  {
   "cell_type": "code",
   "execution_count": null,
   "metadata": {},
   "outputs": [],
   "source": []
  },
  {
   "cell_type": "code",
   "execution_count": null,
   "metadata": {},
   "outputs": [],
   "source": []
  },
  {
   "cell_type": "code",
   "execution_count": null,
   "metadata": {},
   "outputs": [],
   "source": []
  },
  {
   "cell_type": "code",
   "execution_count": null,
   "metadata": {},
   "outputs": [],
   "source": []
  }
 ],
 "metadata": {
  "kernelspec": {
   "display_name": "base",
   "language": "python",
   "name": "python3"
  },
  "language_info": {
   "codemirror_mode": {
    "name": "ipython",
    "version": 3
   },
   "file_extension": ".py",
   "mimetype": "text/x-python",
   "name": "python",
   "nbconvert_exporter": "python",
   "pygments_lexer": "ipython3",
   "version": "3.9.12"
  },
  "orig_nbformat": 4
 },
 "nbformat": 4,
 "nbformat_minor": 2
}
